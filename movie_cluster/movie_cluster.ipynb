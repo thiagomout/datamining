{
 "cells": [
  {
   "cell_type": "markdown",
   "metadata": {},
   "source": [
    "### Importando bibliotecas necessárias"
   ]
  },
  {
   "cell_type": "code",
   "execution_count": 38,
   "metadata": {},
   "outputs": [],
   "source": [
    "import pandas as pd\n",
    "import numpy as np\n",
    "import matplotlib as mpl\n",
    "import matplotlib.pyplot as plt\n",
    "import seaborn as sns\n",
    "import requests"
   ]
  },
  {
   "cell_type": "markdown",
   "metadata": {},
   "source": [
    "### Baixar arquivos:"
   ]
  },
  {
   "cell_type": "code",
   "execution_count": 39,
   "metadata": {},
   "outputs": [
    {
     "data": {
      "text/plain": [
       "'\\nurl = \\'https://files.grouplens.org/datasets/movielens/ml-1m.zip\\'\\n\\ntry:\\n    response = requests.get(url, verify=False)\\n    with open(\\'ml-1m.zip\\', \\'wb\\') as file:\\n        file.write(response.content)\\n    print(\"Download concluído com sucesso!\")\\nexcept requests.exceptions.RequestException as e:\\n    print(f\"Erro ao baixar o arquivo: {e}\")\\n\\n'"
      ]
     },
     "execution_count": 39,
     "metadata": {},
     "output_type": "execute_result"
    }
   ],
   "source": [
    "\"\"\"\n",
    "url = 'https://files.grouplens.org/datasets/movielens/ml-1m.zip'\n",
    "\n",
    "try:\n",
    "    response = requests.get(url, verify=False)\n",
    "    with open('ml-1m.zip', 'wb') as file:\n",
    "        file.write(response.content)\n",
    "    print(\"Download concluído com sucesso!\")\n",
    "except requests.exceptions.RequestException as e:\n",
    "    print(f\"Erro ao baixar o arquivo: {e}\")\n",
    "\n",
    "\"\"\""
   ]
  },
  {
   "cell_type": "code",
   "execution_count": 40,
   "metadata": {},
   "outputs": [
    {
     "data": {
      "text/plain": [
       "'\\nurl = \\'https://files.grouplens.org/datasets/movielens/ml-1m-README.txt\\'\\n\\ntry:\\n    response = requests.get(url, verify=False)\\n    with open(\\'ml-1m.zip\\', \\'wb\\') as file:\\n        file.write(response.content)\\n    print(\"Download concluído com sucesso!\")\\nexcept requests.exceptions.RequestException as e:\\n    print(f\"Erro ao baixar o arquivo: {e}\")\\n'"
      ]
     },
     "execution_count": 40,
     "metadata": {},
     "output_type": "execute_result"
    }
   ],
   "source": [
    "\"\"\"\n",
    "url = 'https://files.grouplens.org/datasets/movielens/ml-1m-README.txt'\n",
    "\n",
    "try:\n",
    "    response = requests.get(url, verify=False)\n",
    "    with open('ml-1m.zip', 'wb') as file:\n",
    "        file.write(response.content)\n",
    "    print(\"Download concluído com sucesso!\")\n",
    "except requests.exceptions.RequestException as e:\n",
    "    print(f\"Erro ao baixar o arquivo: {e}\")\n",
    "\"\"\""
   ]
  },
  {
   "cell_type": "code",
   "execution_count": 41,
   "metadata": {},
   "outputs": [
    {
     "name": "stdout",
     "output_type": "stream",
     "text": [
      "   MovieID                               Title                        Genres\n",
      "0        1                    Toy Story (1995)   Animation|Children's|Comedy\n",
      "1        2                      Jumanji (1995)  Adventure|Children's|Fantasy\n",
      "2        3             Grumpier Old Men (1995)                Comedy|Romance\n",
      "3        4            Waiting to Exhale (1995)                  Comedy|Drama\n",
      "4        5  Father of the Bride Part II (1995)                        Comedy\n",
      "   UserID  MovieID  Rating  Timestamp\n",
      "0       1     1193       5  978300760\n",
      "1       1      661       3  978302109\n",
      "2       1      914       3  978301968\n",
      "3       1     3408       4  978300275\n",
      "4       1     2355       5  978824291\n",
      "   UserID Gender  Age  Occupation Zip-code\n",
      "0       1      F    1          10    48067\n",
      "1       2      M   56          16    70072\n",
      "2       3      M   25          15    55117\n",
      "3       4      M   45           7    02460\n",
      "4       5      M   25          20    55455\n"
     ]
    }
   ],
   "source": [
    "# Lendo o arquivo movies.dat\n",
    "df_movies = pd.read_csv(\n",
    "    r\"C:\\Users\\thiag\\OneDrive\\Desktop\\datamining\\movie_cluster\\data\\ml-1m\\movies.dat\",\n",
    "    delimiter='::',\n",
    "    engine='python',\n",
    "    names=['MovieID', 'Title', 'Genres'],\n",
    "    encoding='latin1'\n",
    ")\n",
    "\n",
    "# Lendo o arquivo ratings.dat\n",
    "df_ratings = pd.read_csv(\n",
    "    r\"C:\\Users\\thiag\\OneDrive\\Desktop\\datamining\\movie_cluster\\data\\ml-1m\\ratings.dat\",\n",
    "    delimiter='::',\n",
    "    engine='python',\n",
    "    names=['UserID', 'MovieID', 'Rating', 'Timestamp'],\n",
    "    encoding='latin1'\n",
    ")\n",
    "\n",
    "# Lendo o arquivo users.dat\n",
    "df_users = pd.read_csv(\n",
    "    r\"C:\\Users\\thiag\\OneDrive\\Desktop\\datamining\\movie_cluster\\data\\ml-1m\\users.dat\",\n",
    "    delimiter='::',\n",
    "    engine='python',\n",
    "    names=['UserID', 'Gender', 'Age', 'Occupation', 'Zip-code'],\n",
    "    encoding='latin1'\n",
    ")\n",
    "\n",
    "print(df_movies.head())\n",
    "print(df_ratings.head())\n",
    "print(df_users.head())\n"
   ]
  }
 ],
 "metadata": {
  "kernelspec": {
   "display_name": "Python 3",
   "language": "python",
   "name": "python3"
  },
  "language_info": {
   "codemirror_mode": {
    "name": "ipython",
    "version": 3
   },
   "file_extension": ".py",
   "mimetype": "text/x-python",
   "name": "python",
   "nbconvert_exporter": "python",
   "pygments_lexer": "ipython3",
   "version": "3.12.1"
  }
 },
 "nbformat": 4,
 "nbformat_minor": 2
}
