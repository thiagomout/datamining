{
 "cells": [
  {
   "cell_type": "markdown",
   "metadata": {},
   "source": [
    "### Importando bibliotecas necessárias"
   ]
  },
  {
   "cell_type": "code",
   "execution_count": 93,
   "metadata": {},
   "outputs": [],
   "source": [
    "import pandas as pd\n",
    "import numpy as np\n",
    "import matplotlib as mpl\n",
    "import matplotlib.pyplot as plt\n",
    "import seaborn as sns\n",
    "import requests\n",
    "import os\n",
    "import re"
   ]
  },
  {
   "cell_type": "markdown",
   "metadata": {},
   "source": [
    "### Baixar arquivos:"
   ]
  },
  {
   "cell_type": "code",
   "execution_count": 94,
   "metadata": {},
   "outputs": [
    {
     "data": {
      "text/plain": [
       "'\\nurl = \\'https://files.grouplens.org/datasets/movielens/ml-1m.zip\\'\\n\\ntry:\\n    response = requests.get(url, verify=False)\\n    with open(\\'ml-1m.zip\\', \\'wb\\') as file:\\n        file.write(response.content)\\n    print(\"Download concluído com sucesso!\")\\nexcept requests.exceptions.RequestException as e:\\n    print(f\"Erro ao baixar o arquivo: {e}\")\\n\\n'"
      ]
     },
     "execution_count": 94,
     "metadata": {},
     "output_type": "execute_result"
    }
   ],
   "source": [
    "\"\"\"\n",
    "url = 'https://files.grouplens.org/datasets/movielens/ml-1m.zip'\n",
    "\n",
    "try:\n",
    "    response = requests.get(url, verify=False)\n",
    "    with open('ml-1m.zip', 'wb') as file:\n",
    "        file.write(response.content)\n",
    "    print(\"Download concluído com sucesso!\")\n",
    "except requests.exceptions.RequestException as e:\n",
    "    print(f\"Erro ao baixar o arquivo: {e}\")\n",
    "\n",
    "\"\"\""
   ]
  },
  {
   "cell_type": "code",
   "execution_count": 95,
   "metadata": {},
   "outputs": [
    {
     "data": {
      "text/plain": [
       "'\\nurl = \\'https://files.grouplens.org/datasets/movielens/ml-1m-README.txt\\'\\n\\ntry:\\n    response = requests.get(url, verify=False)\\n    with open(\\'ml-1m.zip\\', \\'wb\\') as file:\\n        file.write(response.content)\\n    print(\"Download concluído com sucesso!\")\\nexcept requests.exceptions.RequestException as e:\\n    print(f\"Erro ao baixar o arquivo: {e}\")\\n'"
      ]
     },
     "execution_count": 95,
     "metadata": {},
     "output_type": "execute_result"
    }
   ],
   "source": [
    "\"\"\"\n",
    "url = 'https://files.grouplens.org/datasets/movielens/ml-1m-README.txt'\n",
    "\n",
    "try:\n",
    "    response = requests.get(url, verify=False)\n",
    "    with open('ml-1m.zip', 'wb') as file:\n",
    "        file.write(response.content)\n",
    "    print(\"Download concluído com sucesso!\")\n",
    "except requests.exceptions.RequestException as e:\n",
    "    print(f\"Erro ao baixar o arquivo: {e}\")\n",
    "\"\"\""
   ]
  },
  {
   "cell_type": "code",
   "execution_count": 96,
   "metadata": {},
   "outputs": [
    {
     "name": "stdout",
     "output_type": "stream",
     "text": [
      "   MovieID                               Title                        Genres\n",
      "0        1                    Toy Story (1995)   Animation|Children's|Comedy\n",
      "1        2                      Jumanji (1995)  Adventure|Children's|Fantasy\n",
      "2        3             Grumpier Old Men (1995)                Comedy|Romance\n",
      "3        4            Waiting to Exhale (1995)                  Comedy|Drama\n",
      "4        5  Father of the Bride Part II (1995)                        Comedy\n",
      "   UserID  MovieID  Rating  Timestamp\n",
      "0       1     1193       5  978300760\n",
      "1       1      661       3  978302109\n",
      "2       1      914       3  978301968\n",
      "3       1     3408       4  978300275\n",
      "4       1     2355       5  978824291\n",
      "   UserID Gender  Age  Occupation Zip-code\n",
      "0       1      F    1          10    48067\n",
      "1       2      M   56          16    70072\n",
      "2       3      M   25          15    55117\n",
      "3       4      M   45           7    02460\n",
      "4       5      M   25          20    55455\n"
     ]
    }
   ],
   "source": [
    "# Lendo o arquivo movies.dat\n",
    "filepath_movies = os.path.join('data/ml-1m', 'movies.dat')\n",
    "filepath_ratings = os.path.join('data/ml-1m', 'ratings.dat')\n",
    "filepath_users  = os.path.join ('data/ml-1m', 'users.dat')\n",
    "\n",
    "df_movies = pd.read_csv(\n",
    "    filepath_movies,\n",
    "    delimiter='::',\n",
    "    engine='python',\n",
    "    names=['MovieID', 'Title', 'Genres'],\n",
    "    encoding='latin1'\n",
    ")\n",
    "\n",
    "# Lendo o arquivo ratings.dat\n",
    "df_ratings = pd.read_csv(\n",
    "    filepath_ratings,\n",
    "    delimiter='::',\n",
    "    engine='python',\n",
    "    names=['UserID', 'MovieID', 'Rating', 'Timestamp'],\n",
    "    encoding='latin1'\n",
    ")\n",
    "\n",
    "# Lendo o arquivo users.dat\n",
    "df_users = pd.read_csv(\n",
    "    filepath_users,\n",
    "    delimiter='::',\n",
    "    engine='python',\n",
    "    names=['UserID', 'Gender', 'Age', 'Occupation', 'Zip-code'],\n",
    "    encoding='latin1'\n",
    ")\n",
    "\n",
    "print(df_movies.head())\n",
    "print(df_ratings.head())\n",
    "print(df_users.head())\n"
   ]
  },
  {
   "cell_type": "markdown",
   "metadata": {},
   "source": [
    "### Faremos agora uma análise exploratória dos dados"
   ]
  },
  {
   "cell_type": "code",
   "execution_count": 97,
   "metadata": {},
   "outputs": [
    {
     "name": "stdout",
     "output_type": "stream",
     "text": [
      "(3883, 3)\n",
      "(1000209, 4)\n",
      "(6040, 5)\n"
     ]
    }
   ],
   "source": [
    "print(df_movies.shape)\n",
    "print(df_ratings.shape)\n",
    "print(df_users.shape)"
   ]
  },
  {
   "cell_type": "markdown",
   "metadata": {},
   "source": [
    "##### 3883 filmes 1000209 avaliações e 6040 usuários"
   ]
  },
  {
   "cell_type": "code",
   "execution_count": 98,
   "metadata": {},
   "outputs": [
    {
     "name": "stdout",
     "output_type": "stream",
     "text": [
      "Valores nulos por coluna:\n",
      " MovieID    0\n",
      "Title      0\n",
      "Genres     0\n",
      "dtype: int64\n"
     ]
    }
   ],
   "source": [
    "null_counts = df_movies.isnull().sum()\n",
    "print(\"Valores nulos por coluna:\\n\", null_counts)"
   ]
  },
  {
   "cell_type": "code",
   "execution_count": 99,
   "metadata": {},
   "outputs": [
    {
     "name": "stdout",
     "output_type": "stream",
     "text": [
      "Valores nulos por coluna:\n",
      " UserID       0\n",
      "MovieID      0\n",
      "Rating       0\n",
      "Timestamp    0\n",
      "dtype: int64\n"
     ]
    }
   ],
   "source": [
    "null_counts = df_ratings.isnull().sum()\n",
    "print(\"Valores nulos por coluna:\\n\", null_counts)"
   ]
  },
  {
   "cell_type": "code",
   "execution_count": 100,
   "metadata": {},
   "outputs": [
    {
     "name": "stdout",
     "output_type": "stream",
     "text": [
      "Valores nulos por coluna:\n",
      " UserID        0\n",
      "Gender        0\n",
      "Age           0\n",
      "Occupation    0\n",
      "Zip-code      0\n",
      "dtype: int64\n"
     ]
    }
   ],
   "source": [
    "null_counts = df_users.isnull().sum()\n",
    "print(\"Valores nulos por coluna:\\n\", null_counts)"
   ]
  },
  {
   "cell_type": "markdown",
   "metadata": {},
   "source": [
    "Nenhum valor nulo"
   ]
  },
  {
   "cell_type": "markdown",
   "metadata": {},
   "source": [
    "Para facilitar vamos tirar o ano do filme do nome, e por em uma nova coluna"
   ]
  },
  {
   "cell_type": "code",
   "execution_count": 101,
   "metadata": {},
   "outputs": [
    {
     "name": "stdout",
     "output_type": "stream",
     "text": [
      "   MovieID                               Title                        Genres  \\\n",
      "0        1                    Toy Story (1995)   Animation|Children's|Comedy   \n",
      "1        2                      Jumanji (1995)  Adventure|Children's|Fantasy   \n",
      "2        3             Grumpier Old Men (1995)                Comedy|Romance   \n",
      "3        4            Waiting to Exhale (1995)                  Comedy|Drama   \n",
      "4        5  Father of the Bride Part II (1995)                        Comedy   \n",
      "\n",
      "   Year  \n",
      "0  1995  \n",
      "1  1995  \n",
      "2  1995  \n",
      "3  1995  \n",
      "4  1995  \n"
     ]
    }
   ],
   "source": [
    "def extract_year(title):\n",
    "    match = re.search(r'\\((\\d{4})\\)', title)\n",
    "    if match:\n",
    "        return int(match.group(1))\n",
    "    return None\n",
    "\n",
    "df_movies['Year'] = df_movies['Title'].apply(extract_year)\n",
    "print(df_movies.head())"
   ]
  },
  {
   "cell_type": "markdown",
   "metadata": {},
   "source": [
    "##### Vamos fazer um gráfico de quantidade de filmes x ano"
   ]
  },
  {
   "cell_type": "code",
   "execution_count": 102,
   "metadata": {},
   "outputs": [
    {
     "data": {
      "image/png": "[encoded data removed]",
      "text/plain": [
       "<Figure size 1200x600 with 1 Axes>"
      ]
     },
     "metadata": {},
     "output_type": "display_data"
    }
   ],
   "source": [
    "movies_per_year = df_movies['Year'].value_counts().sort_index()\n",
    "plt.figure(figsize=(12, 6))\n",
    "movies_per_year.plot(kind='bar')\n",
    "plt.xlabel('Ano')\n",
    "plt.ylabel('Quantidade de Filmes')\n",
    "plt.title('Quantidade de Filmes por Ano')\n",
    "plt.show()\n"
   ]
  },
  {
   "cell_type": "markdown",
   "metadata": {},
   "source": [
    "##### Podemos ver que a gigante maioria dos filmes é da década de 90"
   ]
  },
  {
   "cell_type": "code",
   "execution_count": 103,
   "metadata": {},
   "outputs": [
    {
     "data": {
      "image/png": "[encoded data removed]",
      "text/plain": [
       "<Figure size 1200x600 with 1 Axes>"
      ]
     },
     "metadata": {},
     "output_type": "display_data"
    }
   ],
   "source": [
    "ratings = df_ratings['Rating'].value_counts().sort_index()\n",
    "plt.figure(figsize=(12, 6))\n",
    "ratings.plot(kind='bar')\n",
    "plt.xlabel('Nota')\n",
    "plt.ylabel('Quantidade de Notas')\n",
    "plt.title('Frequência de Notas')\n",
    "plt.show()"
   ]
  },
  {
   "cell_type": "markdown",
   "metadata": {},
   "source": [
    "##### Pouquíssimas notas baixas!"
   ]
  }
 ],
 "metadata": {
  "kernelspec": {
   "display_name": "Python 3",
   "language": "python",
   "name": "python3"
  },
  "language_info": {
   "codemirror_mode": {
    "name": "ipython",
    "version": 3
   },
   "file_extension": ".py",
   "mimetype": "text/x-python",
   "name": "python",
   "nbconvert_exporter": "python",
   "pygments_lexer": "ipython3",
   "version": "3.10.12"
  }
 },
 "nbformat": 4,
 "nbformat_minor": 2
}
